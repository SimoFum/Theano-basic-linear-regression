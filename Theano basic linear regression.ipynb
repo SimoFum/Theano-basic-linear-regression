{
 "cells": [
  {
   "cell_type": "code",
   "execution_count": 4,
   "metadata": {
    "collapsed": false
   },
   "outputs": [
    {
     "name": "stderr",
     "output_type": "stream",
     "text": [
      "Using gpu device 0: GeForce 940MX (CNMeM is enabled with initial size: 80.0% of memory, cuDNN not available)\n"
     ]
    }
   ],
   "source": [
    "import numpy as np\n",
    "import matplotlib.pyplot as plt\n",
    "import theano\n",
    "from theano import tensor as T"
   ]
  },
  {
   "cell_type": "markdown",
   "metadata": {},
   "source": [
    "Dataset building"
   ]
  },
  {
   "cell_type": "code",
   "execution_count": 34,
   "metadata": {
    "collapsed": true
   },
   "outputs": [],
   "source": [
    "train_x = np.asarray([0, 1.0, 1.7, 2.0, 2.3, 3.0, 4.0])\n",
    "train_y = np.asarray([3.0, 5.0, 8.0, 6.8, 11.0, 14.0, 12.0])"
   ]
  },
  {
   "cell_type": "code",
   "execution_count": 48,
   "metadata": {
    "collapsed": false
   },
   "outputs": [],
   "source": [
    "# Variables definition\n",
    "\n",
    "X = T.vector('X')\n",
    "w = theano.shared(np.random.randn(),\n",
    "                 name='w')\n",
    "b = theano.shared(np.random.randn(),\n",
    "                 name='b')\n",
    "y = T.vector('y')"
   ]
  },
  {
   "cell_type": "code",
   "execution_count": 49,
   "metadata": {
    "collapsed": false
   },
   "outputs": [],
   "source": [
    "# Number of samples is equivalent to the number of rows in the dataset\n",
    "num_samples = train_x.shape[0]\n",
    "\n",
    "# Define the prediction function\n",
    "prediction = T.dot(X,w)+b\n",
    "# Define the loss function\n",
    "cost = T.sum(T.pow(prediction-y,2))/(2*num_samples)\n",
    "\n",
    "\n",
    "training_rate = 0.01\n",
    "grad_w = T.grad(cost, w)\n",
    "grad_b = T.grad(cost, b)\n",
    "updates = [(w, w - training_rate * grad_w),\n",
    "          (b, b - training_rate * grad_b)]"
   ]
  },
  {
   "cell_type": "code",
   "execution_count": 50,
   "metadata": {
    "collapsed": false
   },
   "outputs": [],
   "source": [
    "train_model = theano.function(inputs=[X, y],\n",
    "                             outputs=cost,\n",
    "                              updates=updates,\n",
    "                              allow_input_downcast=True\n",
    "                             )"
   ]
  },
  {
   "cell_type": "code",
   "execution_count": 51,
   "metadata": {
    "collapsed": false
   },
   "outputs": [
    {
     "name": "stdout",
     "output_type": "stream",
     "text": [
      "cost 29.811613816670167\n",
      "cost 26.405338091281823\n",
      "cost 23.40950229969068\n",
      "cost 20.77463254032657\n",
      "cost 18.457218515472615\n",
      "cost 16.41899467568552\n",
      "cost 14.626308015403401\n",
      "cost 13.049562074766305\n",
      "cost 11.662727961717133\n",
      "cost 10.442914315726888\n",
      "cost 9.369989108293412\n",
      "cost 8.426247031784632\n",
      "cost 7.596116981386062\n",
      "cost 6.865904797310928\n",
      "cost 6.223567016984447\n",
      "cost 5.6585118992455055\n",
      "cost 5.161424433183928\n",
      "cost 4.724112440494264\n",
      "cost 4.339371228723639\n",
      "cost 4.000864559280349\n",
      "cost 3.703019963614218\n",
      "cost 3.4409366780334336\n",
      "cost 3.2103046761015355\n",
      "cost 3.0073334609070113\n",
      "cost 2.828689440745953\n",
      "cost 2.6714408535691025\n",
      "cost 2.533009330261733\n",
      "cost 2.411127296508339\n",
      "cost 2.3038005094563987\n",
      "cost 2.2092751102281247\n",
      "cost 2.1260086479377818\n",
      "cost 2.052644596487435\n",
      "cost 1.9879899431199712\n",
      "cost 1.9309954784583703\n",
      "cost 1.880738462392764\n",
      "cost 1.8364073794295206\n",
      "cost 1.7972885316376086\n",
      "cost 1.762754247687403\n",
      "cost 1.732252513177406\n",
      "cost 1.7052978509261636\n",
      "cost 1.681463300558002\n",
      "cost 1.660373364873171\n",
      "cost 1.6416978064657783\n",
      "cost 1.62514619210023\n",
      "cost 1.6104630947110214\n",
      "cost 1.597423873755654\n",
      "cost 1.5858309642057284\n",
      "cost 1.5755106128647178\n",
      "cost 1.5663100080914671\n",
      "cost 1.5580947555080984\n"
     ]
    }
   ],
   "source": [
    "for i in range(50):\n",
    "    print('cost', train_model(train_x, train_y))"
   ]
  },
  {
   "cell_type": "code",
   "execution_count": 52,
   "metadata": {
    "collapsed": false
   },
   "outputs": [
    {
     "data": {
      "text/plain": [
       "array(3.1239923326095704)"
      ]
     },
     "execution_count": 52,
     "metadata": {},
     "output_type": "execute_result"
    }
   ],
   "source": [
    "w.get_value()"
   ]
  },
  {
   "cell_type": "code",
   "execution_count": 53,
   "metadata": {
    "collapsed": false
   },
   "outputs": [
    {
     "data": {
      "text/plain": [
       "array(1.7213965314445951)"
      ]
     },
     "execution_count": 53,
     "metadata": {},
     "output_type": "execute_result"
    }
   ],
   "source": [
    "b.get_value()"
   ]
  },
  {
   "cell_type": "code",
   "execution_count": 56,
   "metadata": {
    "collapsed": false
   },
   "outputs": [
    {
     "data": {
      "image/png": "[encoded data removed]",
      "text/plain": [
       "<matplotlib.figure.Figure at 0x26344a7b940>"
      ]
     },
     "metadata": {},
     "output_type": "display_data"
    }
   ],
   "source": [
    "dot = theano.function([X], T.dot(X, w) + b, allow_input_downcast=True)\n",
    "\n",
    "plt.scatter(train_x, train_y)\n",
    "plt.plot(train_x, [x for x in dot(train_x)], 'g')\n",
    "plt.show()"
   ]
  }
 ],
 "metadata": {
  "anaconda-cloud": {},
  "kernelspec": {
   "display_name": "Python [conda root]",
   "language": "python",
   "name": "conda-root-py"
  },
  "language_info": {
   "codemirror_mode": {
    "name": "ipython",
    "version": 3
   },
   "file_extension": ".py",
   "mimetype": "text/x-python",
   "name": "python",
   "nbconvert_exporter": "python",
   "pygments_lexer": "ipython3",
   "version": "3.5.2"
  }
 },
 "nbformat": 4,
 "nbformat_minor": 1
}
